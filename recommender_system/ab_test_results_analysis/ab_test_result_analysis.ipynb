{
 "cells": [
  {
   "cell_type": "markdown",
   "id": "6b2611ec",
   "metadata": {},
   "source": [
    "## A/B test result analysis\n",
    "\n",
    "The experiment on users was carried out for 2 weeks. As a result, we received raw data about the experiment, which we need to process and draw conclusions about whether the recommendations improved when using the test model.\n",
    "\n",
    "**Data description:**\n",
    "\n",
    "* *Our service responses with recommendations* &ndash; in them we know which user we recommended what and to which group they were assigned. And, of course, we know the moment in time when it happened.\n",
    "\n",
    "* *Likes data* &ndash; in them we know which user and which post liked, including the moment in time when this happened."
   ]
  },
  {
   "cell_type": "markdown",
   "id": "acd1941d",
   "metadata": {
    "cellId": "bj933yn489j7zoycwcmzk",
    "execution_id": "5457423a-d359-4695-9dc7-c3d1c272c8f9"
   },
   "source": [
    "### Data loading"
   ]
  },
  {
   "cell_type": "code",
   "execution_count": 48,
   "id": "134531fe",
   "metadata": {},
   "outputs": [],
   "source": [
    "import hashlib\n",
    "from os.path import join\n",
    "import numpy as np\n",
    "import matplotlib.pyplot as plt\n",
    "import pandas as pd\n",
    "import seaborn as sns\n",
    "from scipy.stats import binomtest, mannwhitneyu, ttest_ind"
   ]
  },
  {
   "cell_type": "code",
   "execution_count": 3,
   "id": "7d9da4f1",
   "metadata": {},
   "outputs": [],
   "source": [
    "data_folder = \"data\""
   ]
  },
  {
   "cell_type": "code",
   "execution_count": 6,
   "id": "7c3bb138",
   "metadata": {},
   "outputs": [],
   "source": [
    "views = pd.read_csv(join(data_folder, \"views.csv\"))\n",
    "likes = pd.read_csv(join(data_folder, \"likes.csv\"))"
   ]
  },
  {
   "cell_type": "code",
   "execution_count": 7,
   "id": "71f6de46",
   "metadata": {},
   "outputs": [
    {
     "data": {
      "text/html": [
       "<div>\n",
       "<style scoped>\n",
       "    .dataframe tbody tr th:only-of-type {\n",
       "        vertical-align: middle;\n",
       "    }\n",
       "\n",
       "    .dataframe tbody tr th {\n",
       "        vertical-align: top;\n",
       "    }\n",
       "\n",
       "    .dataframe thead th {\n",
       "        text-align: right;\n",
       "    }\n",
       "</style>\n",
       "<table border=\"1\" class=\"dataframe\">\n",
       "  <thead>\n",
       "    <tr style=\"text-align: right;\">\n",
       "      <th></th>\n",
       "      <th>user_id</th>\n",
       "      <th>exp_group</th>\n",
       "      <th>recommendations</th>\n",
       "      <th>timestamp</th>\n",
       "    </tr>\n",
       "  </thead>\n",
       "  <tbody>\n",
       "    <tr>\n",
       "      <th>0</th>\n",
       "      <td>128381</td>\n",
       "      <td>control</td>\n",
       "      <td>[3644 4529 4704 5294 4808]</td>\n",
       "      <td>1654030803</td>\n",
       "    </tr>\n",
       "    <tr>\n",
       "      <th>1</th>\n",
       "      <td>146885</td>\n",
       "      <td>test</td>\n",
       "      <td>[1399 1076  797 7015 5942]</td>\n",
       "      <td>1654030811</td>\n",
       "    </tr>\n",
       "    <tr>\n",
       "      <th>2</th>\n",
       "      <td>50948</td>\n",
       "      <td>test</td>\n",
       "      <td>[2315 3037 1861 6567 4093]</td>\n",
       "      <td>1654030825</td>\n",
       "    </tr>\n",
       "    <tr>\n",
       "      <th>3</th>\n",
       "      <td>37703</td>\n",
       "      <td>test</td>\n",
       "      <td>[2842 1949  162 1588 6794]</td>\n",
       "      <td>1654030826</td>\n",
       "    </tr>\n",
       "    <tr>\n",
       "      <th>4</th>\n",
       "      <td>14661</td>\n",
       "      <td>test</td>\n",
       "      <td>[2395 5881 5648 3417  673]</td>\n",
       "      <td>1654030829</td>\n",
       "    </tr>\n",
       "  </tbody>\n",
       "</table>\n",
       "</div>"
      ],
      "text/plain": [
       "   user_id exp_group             recommendations   timestamp\n",
       "0   128381   control  [3644 4529 4704 5294 4808]  1654030803\n",
       "1   146885      test  [1399 1076  797 7015 5942]  1654030811\n",
       "2    50948      test  [2315 3037 1861 6567 4093]  1654030825\n",
       "3    37703      test  [2842 1949  162 1588 6794]  1654030826\n",
       "4    14661      test  [2395 5881 5648 3417  673]  1654030829"
      ]
     },
     "execution_count": 7,
     "metadata": {},
     "output_type": "execute_result"
    }
   ],
   "source": [
    "views.head()"
   ]
  },
  {
   "cell_type": "code",
   "execution_count": 8,
   "id": "8f21ec8c",
   "metadata": {},
   "outputs": [
    {
     "data": {
      "text/html": [
       "<div>\n",
       "<style scoped>\n",
       "    .dataframe tbody tr th:only-of-type {\n",
       "        vertical-align: middle;\n",
       "    }\n",
       "\n",
       "    .dataframe tbody tr th {\n",
       "        vertical-align: top;\n",
       "    }\n",
       "\n",
       "    .dataframe thead th {\n",
       "        text-align: right;\n",
       "    }\n",
       "</style>\n",
       "<table border=\"1\" class=\"dataframe\">\n",
       "  <thead>\n",
       "    <tr style=\"text-align: right;\">\n",
       "      <th></th>\n",
       "      <th>user_id</th>\n",
       "      <th>post_id</th>\n",
       "      <th>timestamp</th>\n",
       "    </tr>\n",
       "  </thead>\n",
       "  <tbody>\n",
       "    <tr>\n",
       "      <th>0</th>\n",
       "      <td>128381</td>\n",
       "      <td>4704</td>\n",
       "      <td>1654030804</td>\n",
       "    </tr>\n",
       "    <tr>\n",
       "      <th>1</th>\n",
       "      <td>146885</td>\n",
       "      <td>1399</td>\n",
       "      <td>1654030816</td>\n",
       "    </tr>\n",
       "    <tr>\n",
       "      <th>2</th>\n",
       "      <td>50948</td>\n",
       "      <td>2315</td>\n",
       "      <td>1654030828</td>\n",
       "    </tr>\n",
       "    <tr>\n",
       "      <th>3</th>\n",
       "      <td>14661</td>\n",
       "      <td>673</td>\n",
       "      <td>1654030831</td>\n",
       "    </tr>\n",
       "    <tr>\n",
       "      <th>4</th>\n",
       "      <td>37703</td>\n",
       "      <td>1588</td>\n",
       "      <td>1654030833</td>\n",
       "    </tr>\n",
       "  </tbody>\n",
       "</table>\n",
       "</div>"
      ],
      "text/plain": [
       "   user_id  post_id   timestamp\n",
       "0   128381     4704  1654030804\n",
       "1   146885     1399  1654030816\n",
       "2    50948     2315  1654030828\n",
       "3    14661      673  1654030831\n",
       "4    37703     1588  1654030833"
      ]
     },
     "execution_count": 8,
     "metadata": {},
     "output_type": "execute_result"
    }
   ],
   "source": [
    "likes.head()"
   ]
  },
  {
   "cell_type": "markdown",
   "id": "01ef0a87",
   "metadata": {
    "cellId": "vl5rrkdxupnmq3ba7o9x5m",
    "execution_id": "142c586d-5f3b-47a1-b032-1e3796b4ecbe"
   },
   "source": [
    "### Group split check"
   ]
  },
  {
   "cell_type": "markdown",
   "id": "a0c9841a",
   "metadata": {
    "cellId": "u9jztvaoewg3ptd3r2knv",
    "execution_id": "fc5cc802-099d-4412-8954-b17e4546f40f"
   },
   "source": [
    "Let's start by checking the splitting of groups.\n",
    "\n",
    "First, we don't have a user-group mapping because we actually defined the user's group right before making recommendations.\n",
    "\n",
    "It may seem that this guarantees us a one-to-one correspondence of groups for users, but let's check it. In reality, there are system lags (for example, if we request a user group, we can not always get a response) and this property is not fulfilled. Let's check if we have users who are in both groups.  If there are few of them, then we will simply delete such users, and if there were a lot of them, we would have to figure out what went wrong."
   ]
  },
  {
   "cell_type": "code",
   "execution_count": 9,
   "id": "014a4481",
   "metadata": {},
   "outputs": [
    {
     "data": {
      "text/html": [
       "<div>\n",
       "<style scoped>\n",
       "    .dataframe tbody tr th:only-of-type {\n",
       "        vertical-align: middle;\n",
       "    }\n",
       "\n",
       "    .dataframe tbody tr th {\n",
       "        vertical-align: top;\n",
       "    }\n",
       "\n",
       "    .dataframe thead th {\n",
       "        text-align: right;\n",
       "    }\n",
       "</style>\n",
       "<table border=\"1\" class=\"dataframe\">\n",
       "  <thead>\n",
       "    <tr style=\"text-align: right;\">\n",
       "      <th></th>\n",
       "      <th>user_id</th>\n",
       "      <th>exp_group</th>\n",
       "    </tr>\n",
       "  </thead>\n",
       "  <tbody>\n",
       "    <tr>\n",
       "      <th>10071</th>\n",
       "      <td>25623</td>\n",
       "      <td>2</td>\n",
       "    </tr>\n",
       "    <tr>\n",
       "      <th>20633</th>\n",
       "      <td>55788</td>\n",
       "      <td>2</td>\n",
       "    </tr>\n",
       "    <tr>\n",
       "      <th>54475</th>\n",
       "      <td>142283</td>\n",
       "      <td>2</td>\n",
       "    </tr>\n",
       "    <tr>\n",
       "      <th>57065</th>\n",
       "      <td>148670</td>\n",
       "      <td>2</td>\n",
       "    </tr>\n",
       "  </tbody>\n",
       "</table>\n",
       "</div>"
      ],
      "text/plain": [
       "       user_id  exp_group\n",
       "10071    25623          2\n",
       "20633    55788          2\n",
       "54475   142283          2\n",
       "57065   148670          2"
      ]
     },
     "execution_count": 9,
     "metadata": {},
     "output_type": "execute_result"
    }
   ],
   "source": [
    "tmp = views.groupby(\"user_id\").exp_group.nunique().reset_index()\n",
    "tmp[tmp.exp_group > 1]"
   ]
  },
  {
   "cell_type": "markdown",
   "id": "af34a6ad",
   "metadata": {},
   "source": [
    "Only 4 users, delete them."
   ]
  },
  {
   "cell_type": "code",
   "execution_count": 10,
   "id": "4db078eb",
   "metadata": {},
   "outputs": [],
   "source": [
    "bad_users = tmp[tmp.exp_group > 1].user_id.values\n",
    "\n",
    "views = views[~np.in1d(views.user_id, bad_users)]\n",
    "likes = likes[~np.in1d(likes.user_id, bad_users)]"
   ]
  },
  {
   "cell_type": "markdown",
   "id": "8e6d0842",
   "metadata": {},
   "source": [
    "Check that the groups are split evenly."
   ]
  },
  {
   "cell_type": "code",
   "execution_count": 14,
   "id": "8d41076d",
   "metadata": {},
   "outputs": [
    {
     "data": {
      "text/plain": [
       "test       0.502377\n",
       "control    0.497623\n",
       "Name: exp_group, dtype: float64"
      ]
     },
     "execution_count": 14,
     "metadata": {},
     "output_type": "execute_result"
    }
   ],
   "source": [
    "views.groupby(\"user_id\").first().exp_group.value_counts(normalize=\"True\")"
   ]
  },
  {
   "cell_type": "markdown",
   "id": "f6010262",
   "metadata": {},
   "source": [
    "The users seem to be distributed evenly across groups. To be sure, check this using the *binomial test*."
   ]
  },
  {
   "cell_type": "code",
   "execution_count": 18,
   "id": "311612bc",
   "metadata": {},
   "outputs": [
    {
     "name": "stdout",
     "output_type": "stream",
     "text": [
      "The number of users in control group: 32350, in test group: 32659.\n"
     ]
    }
   ],
   "source": [
    "control_proportion = 0.5\n",
    "test_group_count = views.groupby('user_id').first().exp_group.value_counts()[\"test\"]\n",
    "control_group_count = views.groupby('user_id').first().exp_group.value_counts()[\"control\"]\n",
    "\n",
    "print(f\"The number of users in control group: {control_group_count}, in test group: {test_group_count}.\")"
   ]
  },
  {
   "cell_type": "code",
   "execution_count": 19,
   "id": "f1efe162",
   "metadata": {},
   "outputs": [
    {
     "data": {
      "text/plain": [
       "BinomTestResult(k=32350, n=65009, alternative='two-sided', proportion_estimate=0.49762340598993987, pvalue=0.2270501563614752)"
      ]
     },
     "execution_count": 19,
     "metadata": {},
     "output_type": "execute_result"
    }
   ],
   "source": [
    "binomtest(k=control_group_count, \n",
    "          n=(control_group_count + test_group_count),\n",
    "          p=control_proportion)"
   ]
  },
  {
   "cell_type": "markdown",
   "id": "b5788039",
   "metadata": {},
   "source": [
    "It seems that everything is fine, and the proportion of users in the control group is not significantly different from 0.5"
   ]
  },
  {
   "cell_type": "markdown",
   "id": "43349d8d",
   "metadata": {
    "cellId": "kz3corjkfc9iht32usb6r",
    "execution_id": "f6ebacca-47d0-4494-a9fb-76ca54e61525"
   },
   "source": [
    "### Proportion of users who made at least one like"
   ]
  },
  {
   "cell_type": "markdown",
   "id": "3ad9064e",
   "metadata": {},
   "source": [
    "Let's collect the split into groups."
   ]
  },
  {
   "cell_type": "code",
   "execution_count": 20,
   "id": "f632a2df",
   "metadata": {},
   "outputs": [
    {
     "data": {
      "text/html": [
       "<div>\n",
       "<style scoped>\n",
       "    .dataframe tbody tr th:only-of-type {\n",
       "        vertical-align: middle;\n",
       "    }\n",
       "\n",
       "    .dataframe tbody tr th {\n",
       "        vertical-align: top;\n",
       "    }\n",
       "\n",
       "    .dataframe thead th {\n",
       "        text-align: right;\n",
       "    }\n",
       "</style>\n",
       "<table border=\"1\" class=\"dataframe\">\n",
       "  <thead>\n",
       "    <tr style=\"text-align: right;\">\n",
       "      <th></th>\n",
       "      <th>user_id</th>\n",
       "      <th>exp_group</th>\n",
       "    </tr>\n",
       "  </thead>\n",
       "  <tbody>\n",
       "    <tr>\n",
       "      <th>0</th>\n",
       "      <td>200</td>\n",
       "      <td>test</td>\n",
       "    </tr>\n",
       "    <tr>\n",
       "      <th>1</th>\n",
       "      <td>201</td>\n",
       "      <td>test</td>\n",
       "    </tr>\n",
       "    <tr>\n",
       "      <th>2</th>\n",
       "      <td>202</td>\n",
       "      <td>test</td>\n",
       "    </tr>\n",
       "    <tr>\n",
       "      <th>3</th>\n",
       "      <td>212</td>\n",
       "      <td>test</td>\n",
       "    </tr>\n",
       "    <tr>\n",
       "      <th>4</th>\n",
       "      <td>213</td>\n",
       "      <td>test</td>\n",
       "    </tr>\n",
       "  </tbody>\n",
       "</table>\n",
       "</div>"
      ],
      "text/plain": [
       "   user_id exp_group\n",
       "0      200      test\n",
       "1      201      test\n",
       "2      202      test\n",
       "3      212      test\n",
       "4      213      test"
      ]
     },
     "execution_count": 20,
     "metadata": {},
     "output_type": "execute_result"
    }
   ],
   "source": [
    "groups = views.groupby(\"user_id\").first().reset_index()[[\"user_id\", \"exp_group\"]]\n",
    "groups.head()"
   ]
  },
  {
   "cell_type": "markdown",
   "id": "55895c0e",
   "metadata": {},
   "source": [
    "Let's count the number of likes per user."
   ]
  },
  {
   "cell_type": "code",
   "execution_count": 21,
   "id": "3f599d3f",
   "metadata": {},
   "outputs": [
    {
     "data": {
      "text/html": [
       "<div>\n",
       "<style scoped>\n",
       "    .dataframe tbody tr th:only-of-type {\n",
       "        vertical-align: middle;\n",
       "    }\n",
       "\n",
       "    .dataframe tbody tr th {\n",
       "        vertical-align: top;\n",
       "    }\n",
       "\n",
       "    .dataframe thead th {\n",
       "        text-align: right;\n",
       "    }\n",
       "</style>\n",
       "<table border=\"1\" class=\"dataframe\">\n",
       "  <thead>\n",
       "    <tr style=\"text-align: right;\">\n",
       "      <th></th>\n",
       "      <th>user_id</th>\n",
       "      <th>like_num</th>\n",
       "    </tr>\n",
       "  </thead>\n",
       "  <tbody>\n",
       "    <tr>\n",
       "      <th>0</th>\n",
       "      <td>200</td>\n",
       "      <td>1</td>\n",
       "    </tr>\n",
       "    <tr>\n",
       "      <th>1</th>\n",
       "      <td>201</td>\n",
       "      <td>3</td>\n",
       "    </tr>\n",
       "    <tr>\n",
       "      <th>2</th>\n",
       "      <td>202</td>\n",
       "      <td>2</td>\n",
       "    </tr>\n",
       "    <tr>\n",
       "      <th>3</th>\n",
       "      <td>212</td>\n",
       "      <td>4</td>\n",
       "    </tr>\n",
       "    <tr>\n",
       "      <th>4</th>\n",
       "      <td>213</td>\n",
       "      <td>7</td>\n",
       "    </tr>\n",
       "  </tbody>\n",
       "</table>\n",
       "</div>"
      ],
      "text/plain": [
       "   user_id  like_num\n",
       "0      200         1\n",
       "1      201         3\n",
       "2      202         2\n",
       "3      212         4\n",
       "4      213         7"
      ]
     },
     "execution_count": 21,
     "metadata": {},
     "output_type": "execute_result"
    }
   ],
   "source": [
    "users_w_likes = (\n",
    "    likes\n",
    "    .groupby(\"user_id\")\n",
    "    .post_id.count()\n",
    "    .reset_index()\n",
    "    .rename(columns={\"post_id\": \"like_num\"})\n",
    ")\n",
    "users_w_likes.head()"
   ]
  },
  {
   "cell_type": "markdown",
   "id": "b105d4b7",
   "metadata": {},
   "source": [
    "Merge everything."
   ]
  },
  {
   "cell_type": "code",
   "execution_count": 22,
   "id": "d98cca31",
   "metadata": {},
   "outputs": [
    {
     "data": {
      "text/html": [
       "<div>\n",
       "<style scoped>\n",
       "    .dataframe tbody tr th:only-of-type {\n",
       "        vertical-align: middle;\n",
       "    }\n",
       "\n",
       "    .dataframe tbody tr th {\n",
       "        vertical-align: top;\n",
       "    }\n",
       "\n",
       "    .dataframe thead th {\n",
       "        text-align: right;\n",
       "    }\n",
       "</style>\n",
       "<table border=\"1\" class=\"dataframe\">\n",
       "  <thead>\n",
       "    <tr style=\"text-align: right;\">\n",
       "      <th></th>\n",
       "      <th>has_like</th>\n",
       "      <th>like_num</th>\n",
       "    </tr>\n",
       "    <tr>\n",
       "      <th>exp_group</th>\n",
       "      <th></th>\n",
       "      <th></th>\n",
       "    </tr>\n",
       "  </thead>\n",
       "  <tbody>\n",
       "    <tr>\n",
       "      <th>control</th>\n",
       "      <td>0.891314</td>\n",
       "      <td>3.487079</td>\n",
       "    </tr>\n",
       "    <tr>\n",
       "      <th>test</th>\n",
       "      <td>0.898160</td>\n",
       "      <td>3.592578</td>\n",
       "    </tr>\n",
       "  </tbody>\n",
       "</table>\n",
       "</div>"
      ],
      "text/plain": [
       "           has_like  like_num\n",
       "exp_group                    \n",
       "control    0.891314  3.487079\n",
       "test       0.898160  3.592578"
      ]
     },
     "execution_count": 22,
     "metadata": {},
     "output_type": "execute_result"
    }
   ],
   "source": [
    "tmp = pd.merge(groups, users_w_likes, on=\"user_id\", how=\"left\")\n",
    "tmp.like_num = tmp.like_num.fillna(0)\n",
    "tmp[\"has_like\"] = (tmp[\"like_num\"] > 0).astype(int)\n",
    "tmp.groupby(\"exp_group\")[[\"has_like\", \"like_num\"]].mean()"
   ]
  },
  {
   "cell_type": "markdown",
   "id": "7268da46",
   "metadata": {
    "cellId": "et2gmxdlshmmhirqkghbdo",
    "execution_id": "bbe1a220-76a5-42b0-a552-33cce30d424f"
   },
   "source": [
    "Now let's evaluate whether the number of likes differ between groups. The number of clicks per user is log-normally distributed when visualized. So it is better to apply non-parametric criteria, such as the Mann-Whitney-Wilcoxon test."
   ]
  },
  {
   "cell_type": "code",
   "execution_count": 35,
   "id": "d6c13b6b",
   "metadata": {},
   "outputs": [
    {
     "data": {
      "image/png": "[encoded data removed]",
      "text/plain": [
       "<Figure size 640x480 with 1 Axes>"
      ]
     },
     "metadata": {},
     "output_type": "display_data"
    }
   ],
   "source": [
    "plt.hist(users_w_likes[\"like_num\"], bins=30)\n",
    "plt.xlabel(\"Number of user likes\")\n",
    "plt.ylabel(\"Count\");"
   ]
  },
  {
   "cell_type": "code",
   "execution_count": 36,
   "id": "27267a20",
   "metadata": {},
   "outputs": [
    {
     "data": {
      "text/plain": [
       "MannwhitneyuResult(statistic=518358073.0, pvalue=2.9585062792441964e-05)"
      ]
     },
     "execution_count": 36,
     "metadata": {},
     "output_type": "execute_result"
    }
   ],
   "source": [
    "mannwhitneyu(\n",
    "    tmp[tmp.exp_group == \"control\"].like_num,\n",
    "    tmp[tmp.exp_group == \"test\"].like_num,\n",
    ")"
   ]
  },
  {
   "cell_type": "markdown",
   "id": "fd52e414",
   "metadata": {},
   "source": [
    "We see that the changes are significant in this case as well."
   ]
  },
  {
   "cell_type": "markdown",
   "id": "6cc41c53",
   "metadata": {
    "cellId": "d3ix6ra3pmen47myq7urok",
    "execution_id": "ed9e214b-552a-4a26-bbdd-4f840ee56298"
   },
   "source": [
    "### *Hitrate* metric"
   ]
  },
  {
   "cell_type": "markdown",
   "id": "e386ff18",
   "metadata": {},
   "source": [
    "And now let's do the most difficult thing - calculate the *hitrate* (or the proportion of recommendations that users clicked on). To do this, we want to collect information about the recommended posts and the corresponding clicks in one table."
   ]
  },
  {
   "cell_type": "markdown",
   "id": "083b5eee",
   "metadata": {},
   "source": [
    "Connect all pairs of recommendations and user clicks (don't forget about recommendations without clicks)."
   ]
  },
  {
   "cell_type": "code",
   "execution_count": 37,
   "id": "5c331fb4",
   "metadata": {},
   "outputs": [],
   "source": [
    "tmp = pd.merge(views, likes, on=\"user_id\", how=\"outer\")\n",
    "tmp.post_id = tmp.post_id.fillna(-1).astype(int)"
   ]
  },
  {
   "cell_type": "markdown",
   "id": "84f1b36d",
   "metadata": {},
   "source": [
    "Parse the recommendations."
   ]
  },
  {
   "cell_type": "code",
   "execution_count": 38,
   "id": "66c7a817",
   "metadata": {},
   "outputs": [],
   "source": [
    "tmp[\"recommendations\"] = tmp.recommendations.apply(\n",
    "    lambda x: list(map(int, filter(bool, x[1:-1].split(\" \"))))\n",
    ")"
   ]
  },
  {
   "cell_type": "markdown",
   "id": "41fe89e2",
   "metadata": {},
   "source": [
    "Let's run through all the recommendations and compare with the likes. Let's mark something too old or from the future, likes for unseen recommendations."
   ]
  },
  {
   "cell_type": "code",
   "execution_count": 39,
   "id": "266d09cf",
   "metadata": {},
   "outputs": [],
   "source": [
    "tmp.post_id = tmp.apply(\n",
    "    lambda row:\n",
    "    -1\n",
    "    if\n",
    "        (row.post_id == -1) | \n",
    "        ((row.timestamp_x > row.timestamp_y) &\n",
    "         (row.timestamp_x + 60 * 60 < row.timestamp_y)) |\n",
    "        (row.post_id not in row.recommendations)\n",
    "    else\n",
    "    row.post_id, axis=1)"
   ]
  },
  {
   "cell_type": "markdown",
   "id": "fa6eedb6",
   "metadata": {},
   "source": [
    "Let's unify:"
   ]
  },
  {
   "cell_type": "code",
   "execution_count": 40,
   "id": "23e27625",
   "metadata": {},
   "outputs": [],
   "source": [
    "def my_agg(values):\n",
    "    values = set(values)\n",
    "    if -1 in values and len(values) >= 2:\n",
    "        return 1\n",
    "    elif -1 not in values:\n",
    "        return 1\n",
    "    return 0\n",
    "\n",
    "tmp_agg = tmp.groupby([\"user_id\", \"exp_group\", \"timestamp_x\"]).post_id.agg(my_agg)"
   ]
  },
  {
   "cell_type": "markdown",
   "id": "227b72f7",
   "metadata": {},
   "source": [
    "And now let's calculate the *hitrate* metric."
   ]
  },
  {
   "cell_type": "code",
   "execution_count": 41,
   "id": "07963465",
   "metadata": {},
   "outputs": [
    {
     "data": {
      "text/plain": [
       "0.7143758925429973"
      ]
     },
     "execution_count": 41,
     "metadata": {},
     "output_type": "execute_result"
    }
   ],
   "source": [
    "tmp_agg.reset_index().post_id.mean()"
   ]
  },
  {
   "cell_type": "markdown",
   "id": "9551d8a9",
   "metadata": {
    "cellId": "o7e3rjyqyk86eky8rbif4",
    "execution_id": "8d5f9067-2868-4d46-abde-08dfe69b3492"
   },
   "source": [
    "Now let's evaluate the difference between groups and significance. We cannot use the z-test for proportions here, since we can have the same user several times in each group. Let's apply the bucket approach (that is, let's move on to buckets and evaluate the significance from them) to post group *hitrate* (or CTR). Let's use 100 buckets. The significance level will remain the same at 0.05."
   ]
  },
  {
   "cell_type": "code",
   "execution_count": 44,
   "id": "cf0ef50a",
   "metadata": {},
   "outputs": [],
   "source": [
    "tmp_agg = tmp_agg.reset_index().rename(columns={\"post_id\": \"hitrate\"})"
   ]
  },
  {
   "cell_type": "markdown",
   "id": "8dbfa250",
   "metadata": {},
   "source": [
    "Let's prepare the buckets:"
   ]
  },
  {
   "cell_type": "code",
   "execution_count": 45,
   "id": "5da71711",
   "metadata": {},
   "outputs": [],
   "source": [
    "tmp_agg[\"bucket\"] = tmp_agg[\"user_id\"].apply(\n",
    "    lambda x: int(hashlib.md5((str(x) + \"qwerty\").encode()).hexdigest(), 16) % 100\n",
    ")"
   ]
  },
  {
   "cell_type": "code",
   "execution_count": 46,
   "id": "0ca77f83",
   "metadata": {},
   "outputs": [
    {
     "data": {
      "text/html": [
       "<div>\n",
       "<style scoped>\n",
       "    .dataframe tbody tr th:only-of-type {\n",
       "        vertical-align: middle;\n",
       "    }\n",
       "\n",
       "    .dataframe tbody tr th {\n",
       "        vertical-align: top;\n",
       "    }\n",
       "\n",
       "    .dataframe thead th {\n",
       "        text-align: right;\n",
       "    }\n",
       "</style>\n",
       "<table border=\"1\" class=\"dataframe\">\n",
       "  <thead>\n",
       "    <tr style=\"text-align: right;\">\n",
       "      <th></th>\n",
       "      <th>exp_group</th>\n",
       "      <th>bucket</th>\n",
       "      <th>user_id</th>\n",
       "      <th>timestamp_x</th>\n",
       "      <th>hitrate</th>\n",
       "      <th>view</th>\n",
       "      <th>hitrate_new</th>\n",
       "    </tr>\n",
       "  </thead>\n",
       "  <tbody>\n",
       "    <tr>\n",
       "      <th>0</th>\n",
       "      <td>control</td>\n",
       "      <td>0</td>\n",
       "      <td>68497678</td>\n",
       "      <td>1452753654500</td>\n",
       "      <td>620</td>\n",
       "      <td>878</td>\n",
       "      <td>0.706150</td>\n",
       "    </tr>\n",
       "    <tr>\n",
       "      <th>1</th>\n",
       "      <td>control</td>\n",
       "      <td>1</td>\n",
       "      <td>92587302</td>\n",
       "      <td>1770459715903</td>\n",
       "      <td>741</td>\n",
       "      <td>1070</td>\n",
       "      <td>0.692523</td>\n",
       "    </tr>\n",
       "    <tr>\n",
       "      <th>2</th>\n",
       "      <td>control</td>\n",
       "      <td>2</td>\n",
       "      <td>71983477</td>\n",
       "      <td>1409748804912</td>\n",
       "      <td>622</td>\n",
       "      <td>852</td>\n",
       "      <td>0.730047</td>\n",
       "    </tr>\n",
       "    <tr>\n",
       "      <th>3</th>\n",
       "      <td>control</td>\n",
       "      <td>3</td>\n",
       "      <td>79301948</td>\n",
       "      <td>1609945571944</td>\n",
       "      <td>705</td>\n",
       "      <td>973</td>\n",
       "      <td>0.724563</td>\n",
       "    </tr>\n",
       "    <tr>\n",
       "      <th>4</th>\n",
       "      <td>control</td>\n",
       "      <td>4</td>\n",
       "      <td>78686811</td>\n",
       "      <td>1510680763550</td>\n",
       "      <td>645</td>\n",
       "      <td>913</td>\n",
       "      <td>0.706462</td>\n",
       "    </tr>\n",
       "  </tbody>\n",
       "</table>\n",
       "</div>"
      ],
      "text/plain": [
       "  exp_group  bucket   user_id    timestamp_x  hitrate  view  hitrate_new\n",
       "0   control       0  68497678  1452753654500      620   878     0.706150\n",
       "1   control       1  92587302  1770459715903      741  1070     0.692523\n",
       "2   control       2  71983477  1409748804912      622   852     0.730047\n",
       "3   control       3  79301948  1609945571944      705   973     0.724563\n",
       "4   control       4  78686811  1510680763550      645   913     0.706462"
      ]
     },
     "execution_count": 46,
     "metadata": {},
     "output_type": "execute_result"
    }
   ],
   "source": [
    "tmp_agg[\"view\"] = 1\n",
    "\n",
    "new_df = tmp_agg.groupby([\"exp_group\", \"bucket\"]).sum([\"hitrate\", \"view\"]).reset_index()\n",
    "new_df[\"hitrate_new\"] = new_df.hitrate / new_df.view\n",
    "\n",
    "new_df.head()"
   ]
  },
  {
   "cell_type": "markdown",
   "id": "0b65cc7e",
   "metadata": {},
   "source": [
    "Calculate metric:"
   ]
  },
  {
   "cell_type": "code",
   "execution_count": 47,
   "id": "fd6c1d2b",
   "metadata": {},
   "outputs": [
    {
     "data": {
      "text/plain": [
       "exp_group\n",
       "control    0.707741\n",
       "test       0.720975\n",
       "Name: hitrate, dtype: float64"
      ]
     },
     "execution_count": 47,
     "metadata": {},
     "output_type": "execute_result"
    }
   ],
   "source": [
    "tmp_agg.groupby('exp_group').hitrate.mean()"
   ]
  },
  {
   "cell_type": "markdown",
   "id": "eb293fd2",
   "metadata": {},
   "source": [
    "The difference is quite big. But what about significance?"
   ]
  },
  {
   "cell_type": "code",
   "execution_count": 49,
   "id": "d6cc5340",
   "metadata": {},
   "outputs": [
    {
     "data": {
      "text/plain": [
       "MannwhitneyuResult(statistic=2761.5, pvalue=4.543507652438907e-08)"
      ]
     },
     "execution_count": 49,
     "metadata": {},
     "output_type": "execute_result"
    }
   ],
   "source": [
    "mannwhitneyu(\n",
    "    new_df[new_df.exp_group == \"control\"].hitrate_new,\n",
    "    new_df[new_df.exp_group == \"test\"].hitrate_new,\n",
    ")"
   ]
  },
  {
   "cell_type": "code",
   "execution_count": 50,
   "id": "73161444",
   "metadata": {},
   "outputs": [
    {
     "data": {
      "text/plain": [
       "Ttest_indResult(statistic=-5.448160740759767, pvalue=1.5005541448404563e-07)"
      ]
     },
     "execution_count": 50,
     "metadata": {},
     "output_type": "execute_result"
    }
   ],
   "source": [
    "ttest_ind(\n",
    "    new_df[new_df.exp_group == \"control\"].hitrate_new,\n",
    "    new_df[new_df.exp_group == \"test\"].hitrate_new,\n",
    ")"
   ]
  },
  {
   "cell_type": "markdown",
   "id": "50ca6d27",
   "metadata": {},
   "source": [
    "Significant change. Metric improved in both tests."
   ]
  },
  {
   "cell_type": "markdown",
   "id": "6e7b64f3",
   "metadata": {},
   "source": [
    "### Results\n",
    "\n",
    "* A/B test was done;\n",
    "* Analysis of its results showed that the metric improved significantly."
   ]
  }
 ],
 "metadata": {
  "kernelspec": {
   "display_name": "Python 3.10.2 ('venv': venv)",
   "language": "python",
   "name": "python3"
  },
  "language_info": {
   "codemirror_mode": {
    "name": "ipython",
    "version": 3
   },
   "file_extension": ".py",
   "mimetype": "text/x-python",
   "name": "python",
   "nbconvert_exporter": "python",
   "pygments_lexer": "ipython3",
   "version": "3.10.2"
  },
  "notebookId": "e1a909ae-c446-40b5-acf0-0ef59f2f5279",
  "notebookPath": "hw_11.ipynb",
  "vscode": {
   "interpreter": {
    "hash": "1cfe9b23fb879827b3cb1e77e28f3ec12214b917b6dbc1dbf38404d9e3075797"
   }
  }
 },
 "nbformat": 4,
 "nbformat_minor": 5
}
